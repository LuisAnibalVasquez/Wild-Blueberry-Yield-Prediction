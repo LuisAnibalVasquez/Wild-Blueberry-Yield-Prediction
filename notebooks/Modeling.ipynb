{
 "cells": [
  {
   "cell_type": "code",
   "execution_count": 291,
   "id": "a501a30d",
   "metadata": {
    "scrolled": true
   },
   "outputs": [],
   "source": [
    "import pandas as pd\n",
    "import numpy as np\n",
    "import joblib\n",
    "import pickle\n",
    "import shap\n",
    "\n",
    "from sklearn.linear_model import LinearRegression\n",
    "from sklearn.decomposition import PCA\n",
    "from sklearn.model_selection import train_test_split\n",
    "from mlxtend.evaluate import bias_variance_decomp\n",
    "\n",
    "from sklearn.tree import DecisionTreeRegressor\n",
    "from sklearn.svm import SVR\n",
    "from sklearn import linear_model\n",
    "from sklearn.ensemble import RandomForestRegressor\n",
    "from sklearn.ensemble import RandomForestRegressor\n",
    "from sklearn.svm import LinearSVR\n",
    "from sklearn.linear_model import SGDRegressor\n",
    "from sklearn.feature_selection import f_regression\n",
    "from sklearn.ensemble import GradientBoostingRegressor\n",
    "from sklearn.ensemble import AdaBoostRegressor\n",
    "from xgboost import XGBRegressor\n",
    "from sklearn.preprocessing import PolynomialFeatures"
   ]
  },
  {
   "cell_type": "code",
   "execution_count": 292,
   "id": "1dac8a14",
   "metadata": {
    "scrolled": true
   },
   "outputs": [],
   "source": [
    "pd.set_option('display.max_columns', None)\n",
    "pd.set_option('display.max_rows', None)\n",
    "\n",
    "file = 'X_3.csv'\n",
    "file_y = 'y.csv'\n",
    "\n",
    "nRounds = 5\n",
    "r_state = 42"
   ]
  },
  {
   "cell_type": "code",
   "execution_count": 293,
   "id": "c4b58277",
   "metadata": {
    "scrolled": true
   },
   "outputs": [],
   "source": [
    "X = pd.read_csv('../data/processed/' + file)\n",
    "z = pd.read_csv('../data/processed/' + file_y)"
   ]
  },
  {
   "cell_type": "code",
   "execution_count": 294,
   "id": "94f43b1f",
   "metadata": {
    "scrolled": true
   },
   "outputs": [],
   "source": [
    "X.drop(columns=X.columns[0], axis=1, inplace=True)"
   ]
  },
  {
   "cell_type": "code",
   "execution_count": 295,
   "id": "093c5a38",
   "metadata": {},
   "outputs": [
    {
     "data": {
      "text/plain": [
       "(752, 14)"
      ]
     },
     "execution_count": 295,
     "metadata": {},
     "output_type": "execute_result"
    }
   ],
   "source": [
    "X.shape"
   ]
  },
  {
   "cell_type": "code",
   "execution_count": 296,
   "id": "f5b28830",
   "metadata": {},
   "outputs": [
    {
     "data": {
      "text/plain": [
       "(752, 1)"
      ]
     },
     "execution_count": 296,
     "metadata": {},
     "output_type": "execute_result"
    }
   ],
   "source": [
    "z.shape"
   ]
  },
  {
   "cell_type": "code",
   "execution_count": 297,
   "id": "3104aa53",
   "metadata": {},
   "outputs": [],
   "source": [
    "y = z['yield']"
   ]
  },
  {
   "cell_type": "code",
   "execution_count": 298,
   "id": "f8086381",
   "metadata": {},
   "outputs": [
    {
     "data": {
      "text/plain": [
       "(752,)"
      ]
     },
     "execution_count": 298,
     "metadata": {},
     "output_type": "execute_result"
    }
   ],
   "source": [
    "y.shape"
   ]
  },
  {
   "cell_type": "code",
   "execution_count": 299,
   "id": "40c7cd10",
   "metadata": {
    "scrolled": true
   },
   "outputs": [],
   "source": [
    "X_train, X_test, y_train, y_test = train_test_split(X, \n",
    "                                                    y, \n",
    "                                                    test_size=0.33, \n",
    "                                                    random_state=42)"
   ]
  },
  {
   "cell_type": "code",
   "execution_count": 300,
   "id": "905362cb",
   "metadata": {
    "scrolled": true
   },
   "outputs": [],
   "source": [
    "def check_bias_variance (m, X_train, y_train, X_test, y_test,  r):\n",
    "    avg_expected_loss, avg_bias,avg_var  = bias_variance_decomp(m, \n",
    "                                                                X_train.to_numpy(),   \n",
    "                                                                y_train.to_numpy(),   \n",
    "                                                                X_test.to_numpy(),   \n",
    "                                                                y_test.to_numpy(),  \n",
    "                                                                loss='mse', \n",
    "                                                                num_rounds=r, \n",
    "                                                                random_seed=1)\n",
    "    print('Bias Variance analisys')\n",
    "    print('Average expected loss: %.3f' % avg_expected_loss)\n",
    "    print('Average bias: %.3f' % avg_bias)\n",
    "    print('Average variance: %.3f' % avg_var ) "
   ]
  },
  {
   "cell_type": "code",
   "execution_count": 301,
   "id": "619330e4",
   "metadata": {
    "scrolled": true
   },
   "outputs": [],
   "source": [
    "def evaluate_model(model, x_test, y_test):\n",
    "    from sklearn import metrics\n",
    "    y_pred = model.predict(x_test)\n",
    "    rmse = metrics.mean_squared_error(y_test, y_pred, squared=False) # squared=False retorna RMSE/squared=True retorna MSE\n",
    "    mae  = metrics.mean_absolute_error(y_test, y_pred)\n",
    "    mse  = metrics.mean_squared_error(y_test, y_pred, squared=True)\n",
    "    r2   = metrics.r2_score (y_test, y_pred)\n",
    "    return {'rmse': rmse, \n",
    "            'mae' : mae, \n",
    "            'mse' : mse, \n",
    "            'r2'  : r2}"
   ]
  },
  {
   "cell_type": "code",
   "execution_count": 302,
   "id": "34cc8e7d",
   "metadata": {
    "scrolled": true
   },
   "outputs": [],
   "source": [
    "def generate_model(modelName, X_train, X_test, y_train, y_test ):    \n",
    "    if modelName == 'LinearRegression':\n",
    "        model = LinearRegression()\n",
    "        model.fit(X_train, y_train)\n",
    "        rf_eval = evaluate_model(model, X_test, y_test)\n",
    "        print('RMSE:', rf_eval['rmse'])   \n",
    "        print('MAE:', rf_eval['mae'])           \n",
    "        print('MSE:', rf_eval['mse'])           \n",
    "        print('R2:', rf_eval['r2'])        \n",
    "        print('-----------------------------')\n",
    "        check_bias_variance (model, X_train, y_train, X_test, y_test, nRounds)\n",
    "    if modelName == 'DecisionTreeRegressor':\n",
    "        model = DecisionTreeRegressor(random_state = r_state)\n",
    "        model.fit(X_train, y_train)\n",
    "        rf_eval = evaluate_model(model, X_test, y_test)\n",
    "        print('RMSE:', rf_eval['rmse'])   \n",
    "        print('-----------------------------')\n",
    "        check_bias_variance (model, X_train, y_train, X_test, y_test, nRounds)        \n",
    "    if modelName == 'SVN':\n",
    "        model = SVR()\n",
    "        model.fit(X_train, y_train)\n",
    "        rf_eval = evaluate_model(model, X_test, y_test)\n",
    "        print('RMSE:', rf_eval['rmse'])\n",
    "        print('-----------------------------')\n",
    "        check_bias_variance (model, X_train, y_train, X_test, y_test, nRounds)        \n",
    "    if modelName == 'Lasso':\n",
    "        model = linear_model.Lasso()\n",
    "        model.fit(X_train, y_train)\n",
    "        rf_eval = evaluate_model(model, X_test, y_test)\n",
    "        print('RMSE:', rf_eval['rmse'])\n",
    "        print('-----------------------------')\n",
    "        check_bias_variance (model, X_train, y_train, X_test, y_test, nRounds)        \n",
    "    if modelName == 'RandomForestRegressor':\n",
    "        model = RandomForestRegressor(random_state = r_state)\n",
    "        model.fit(X_train, y_train)\n",
    "        rf_eval = evaluate_model(model, X_test, y_test)\n",
    "        print('RMSE:', rf_eval['rmse'])\n",
    "        print('-----------------------------')     \n",
    "        check_bias_variance (model, X_train, y_train, X_test, y_test, nRounds) \n",
    "    if modelName == 'LinearSVR':\n",
    "        model = LinearSVR(random_state = r_state)\n",
    "        model.fit(X_train, y_train)\n",
    "        rf_eval = evaluate_model(model, X_test, y_test)\n",
    "        print('RMSE:', rf_eval['rmse'])\n",
    "        print('-----------------------------')           \n",
    "        check_bias_variance (model, X_train, y_train, X_test, y_test, nRounds)        \n",
    "    if modelName == 'SGDRegressor':\n",
    "        model = SGDRegressor(random_state=r_state)\n",
    "        model.fit(X_train, y_train)\n",
    "        rf_eval = evaluate_model(model, X_test, y_test)\n",
    "        print('RMSE:', rf_eval['rmse'])  \n",
    "        check_bias_variance (model, X_train, y_train, X_test, y_test, nRounds)                \n",
    "    if modelName == 'AdaBoostRegressor':\n",
    "        model = AdaBoostRegressor(random_state=r_state)\n",
    "        model.fit(X_train, y_train)\n",
    "        rf_eval = evaluate_model(model, X_test, y_test)\n",
    "        print('RMSE:', rf_eval['rmse'])   \n",
    "        print('-----------------------------')\n",
    "        check_bias_variance (model, X_train, y_train, X_test, y_test, nRounds)\n",
    "    if modelName == 'GradientBoostingRegressor':  \n",
    "        model = GradientBoostingRegressor(random_state=r_state)\n",
    "        model.fit(X_train, y_train)\n",
    "        rf_eval = evaluate_model(model, X_test, y_test)\n",
    "        print('RMSE:', rf_eval['rmse'])  \n",
    "        print('-----------------------------')\n",
    "        check_bias_variance (model, X_train, y_train, X_test, y_test, nRounds)    \n",
    "    if modelName == 'XGBRegressor':\n",
    "        model = XGBRegressor()\n",
    "        model.fit(X_train, y_train)\n",
    "        rf_eval = evaluate_model(model, X_test, y_test)\n",
    "        print('RMSE:', rf_eval['rmse'])  \n",
    "        print('-----------------------------')\n",
    "        check_bias_variance (model, X_train, y_train, X_test, y_test, nRounds) \n",
    "    return model"
   ]
  },
  {
   "cell_type": "code",
   "execution_count": 303,
   "id": "8b34c6a9",
   "metadata": {
    "scrolled": true
   },
   "outputs": [
    {
     "name": "stdout",
     "output_type": "stream",
     "text": [
      "RMSE: 117.39188476402283\n",
      "MAE: 90.28752495180726\n",
      "MSE: 13780.854608449616\n",
      "R2: 0.991522113769003\n",
      "-----------------------------\n",
      "Bias Variance analisys\n",
      "Average expected loss: 14094.296\n",
      "Average bias: 13793.638\n",
      "Average variance: 300.658\n"
     ]
    }
   ],
   "source": [
    "m = generate_model('LinearRegression', X_train, X_test, y_train, y_test)"
   ]
  },
  {
   "cell_type": "code",
   "execution_count": 304,
   "id": "fd0da036",
   "metadata": {},
   "outputs": [],
   "source": [
    "# poly = PolynomialFeatures(degree=2, include_bias=False)\n",
    "# x_train_trans = poly.fit_transform(X_train)\n",
    "# x_test_trans = poly.transform(X_test)\n",
    "\n",
    "# m = generate_model('LinearRegression', \n",
    "#                    pd.DataFrame(x_train_trans, columns=X_train.columns), \n",
    "#                    pd.DataFrame(x_test_trans, columns=X_train.columns) , \n",
    "#                    y_train, \n",
    "#                    y_test)\n",
    "\n",
    "# x_train_trans.shape"
   ]
  },
  {
   "cell_type": "code",
   "execution_count": 305,
   "id": "677ca459",
   "metadata": {
    "scrolled": true
   },
   "outputs": [],
   "source": [
    "# generate_model('DecisionTreeRegressor', X_train, X_test, y_train, y_test)\n",
    "# RMSE: 0.15216838613476735\n",
    "# -----------------------------\n",
    "# Bias Variance analisys\n",
    "# Average expected loss: 0.029\n",
    "# Average bias: 0.016\n",
    "# Average variance: 0.013"
   ]
  },
  {
   "cell_type": "code",
   "execution_count": 306,
   "id": "3ed8c997",
   "metadata": {
    "scrolled": true
   },
   "outputs": [],
   "source": [
    "# generate_model('SVN', X_train, X_test, y_train, y_test)\n",
    "# RMSE: 0.14253784805325495\n",
    "# -----------------------------\n",
    "# Bias Variance analisys\n",
    "# Average expected loss: 0.025\n",
    "# Average bias: 0.023\n",
    "# Average variance: 0.002"
   ]
  },
  {
   "cell_type": "code",
   "execution_count": 307,
   "id": "b9608c5f",
   "metadata": {
    "scrolled": true
   },
   "outputs": [],
   "source": [
    "#  generate_model('Lasso', X_train, X_test, y_train, y_test)\n",
    "# RMSE: 1.0264283728130068\n",
    "# -----------------------------\n",
    "# Bias Variance analisys\n",
    "# Average expected loss: 1.011\n",
    "# Average bias: 1.010\n",
    "# Average variance: 0.001"
   ]
  },
  {
   "cell_type": "code",
   "execution_count": 308,
   "id": "b92ed8d7",
   "metadata": {
    "scrolled": true
   },
   "outputs": [],
   "source": [
    "# generate_model('RandomForestRegressor', X_train, X_test, y_train, y_test)\n",
    "# RMSE: 0.11109118075435369\n",
    "# -----------------------------\n",
    "# Bias Variance analisys\n",
    "# Average expected loss: 0.016\n",
    "# Average bias: 0.013\n",
    "# Average variance: 0.002"
   ]
  },
  {
   "cell_type": "code",
   "execution_count": 309,
   "id": "e93f11a8",
   "metadata": {
    "scrolled": true
   },
   "outputs": [],
   "source": [
    "# generate_model('LinearSVR', X_train, X_test, y_train, y_test)\n",
    "# RMSE: 0.0900785990812396\n",
    "# -----------------------------\n",
    "# Bias Variance analisys\n",
    "# Average expected loss: 0.009\n",
    "# Average bias: 0.008\n",
    "# Average variance: 0.000"
   ]
  },
  {
   "cell_type": "code",
   "execution_count": 310,
   "id": "12f9e8bc",
   "metadata": {
    "scrolled": true
   },
   "outputs": [],
   "source": [
    "# generate_model('SGDRegressor', X_train, X_test, y_train, y_test)\n",
    "# RMSE: 0.10869991825145987\n",
    "# Bias Variance analisys\n",
    "# Average expected loss: 0.012\n",
    "# Average bias: 0.012\n",
    "# Average variance: 0.000"
   ]
  },
  {
   "cell_type": "code",
   "execution_count": 311,
   "id": "70049535",
   "metadata": {
    "scrolled": true
   },
   "outputs": [],
   "source": [
    "# generate_model('AdaBoostRegressor', X_train, X_test, y_train, y_test)\n",
    "# RMSE: 0.15853287428085086\n",
    "# -----------------------------\n",
    "# Bias Variance analisys\n",
    "# Average expected loss: 0.027\n",
    "# Average bias: 0.024\n",
    "# Average variance: 0.003"
   ]
  },
  {
   "cell_type": "code",
   "execution_count": 312,
   "id": "d5b2b930",
   "metadata": {
    "scrolled": true
   },
   "outputs": [],
   "source": [
    "# generate_model('GradientBoostingRegressor', X_train, X_test, y_train, y_test)\n",
    "# RMSE: 0.0929275334390468\n",
    "# -----------------------------\n",
    "# Bias Variance analisys\n",
    "# Average expected loss: 0.011\n",
    "# Average bias: 0.009\n",
    "# Average variance: 0.002"
   ]
  },
  {
   "cell_type": "code",
   "execution_count": 313,
   "id": "3608a1a0",
   "metadata": {
    "scrolled": true
   },
   "outputs": [],
   "source": [
    "# generate_model('XGBRegressor', X_train, X_test, y_train, y_test)\n",
    "# RMSE: 0.11026424531177682\n",
    "# -----------------------------\n",
    "# Bias Variance analisys\n",
    "# Average expected loss: 0.014\n",
    "# Average bias: 0.010\n",
    "# Average variance: 0.003"
   ]
  },
  {
   "cell_type": "code",
   "execution_count": 314,
   "id": "073f00fa",
   "metadata": {},
   "outputs": [
    {
     "data": {
      "text/plain": [
       "['../models/WildBlueberryYieldPrediction.joblib']"
      ]
     },
     "execution_count": 314,
     "metadata": {},
     "output_type": "execute_result"
    }
   ],
   "source": [
    "joblib.dump(m, '../models/WildBlueberryYieldPrediction.joblib', compress=3)"
   ]
  },
  {
   "cell_type": "code",
   "execution_count": 315,
   "id": "7469daf3",
   "metadata": {},
   "outputs": [],
   "source": [
    "pickle.dump(m, open('../models/WildBlueberryYieldPrediction.pkl', 'wb'))"
   ]
  }
 ],
 "metadata": {
  "kernelspec": {
   "display_name": "Python 3 (ipykernel)",
   "language": "python",
   "name": "python3"
  },
  "language_info": {
   "codemirror_mode": {
    "name": "ipython",
    "version": 3
   },
   "file_extension": ".py",
   "mimetype": "text/x-python",
   "name": "python",
   "nbconvert_exporter": "python",
   "pygments_lexer": "ipython3",
   "version": "3.10.11"
  }
 },
 "nbformat": 4,
 "nbformat_minor": 5
}
