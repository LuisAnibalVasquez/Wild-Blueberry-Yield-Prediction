{
 "cells": [
  {
   "cell_type": "code",
   "execution_count": 47,
   "id": "9d6cbfab",
   "metadata": {},
   "outputs": [],
   "source": [
    "import pandas as pd\n",
    "import matplotlib.pyplot as plt\n",
    "import numpy as np\n",
    "\n",
    "from sklearn.decomposition import PCA"
   ]
  },
  {
   "cell_type": "code",
   "execution_count": 48,
   "id": "c5fa0568",
   "metadata": {},
   "outputs": [],
   "source": [
    "pd.set_option('display.max_columns', None)\n",
    "pd.set_option('display.max_rows', None)"
   ]
  },
  {
   "cell_type": "code",
   "execution_count": 49,
   "id": "7eab8aa8",
   "metadata": {},
   "outputs": [],
   "source": [
    "df = pd.read_csv('../data/raw/WildBlueberryPollinationSimulationData.csv')"
   ]
  },
  {
   "cell_type": "code",
   "execution_count": 50,
   "id": "4f3383e6",
   "metadata": {},
   "outputs": [],
   "source": [
    "df.drop('Row#', axis= 1, inplace = True)"
   ]
  },
  {
   "cell_type": "code",
   "execution_count": 51,
   "id": "041a1145",
   "metadata": {},
   "outputs": [
    {
     "data": {
      "text/plain": [
       "(777, 17)"
      ]
     },
     "execution_count": 51,
     "metadata": {},
     "output_type": "execute_result"
    }
   ],
   "source": [
    "df.shape"
   ]
  },
  {
   "cell_type": "markdown",
   "id": "1d41fc32",
   "metadata": {},
   "source": [
    "Ahora trabajaremos con los outliers\n",
    "\n",
    "honeyBee tiene 2 outliers\n",
    "\n",
    "bumbles tiene 3 outliers\n",
    "\n",
    "andrena tiene 1 outliers\n",
    "\n",
    "osmia tiene 6 outliers\n",
    "\n",
    "fruitset tiene 9 outliers\n",
    "\n",
    "fruitmass tiene 2 outliers\n",
    "\n",
    "seeds tiene 2 outlier"
   ]
  },
  {
   "cell_type": "code",
   "execution_count": 52,
   "id": "d06f8617",
   "metadata": {},
   "outputs": [
    {
     "data": {
      "text/html": [
       "<div>\n",
       "<style scoped>\n",
       "    .dataframe tbody tr th:only-of-type {\n",
       "        vertical-align: middle;\n",
       "    }\n",
       "\n",
       "    .dataframe tbody tr th {\n",
       "        vertical-align: top;\n",
       "    }\n",
       "\n",
       "    .dataframe thead th {\n",
       "        text-align: right;\n",
       "    }\n",
       "</style>\n",
       "<table border=\"1\" class=\"dataframe\">\n",
       "  <thead>\n",
       "    <tr style=\"text-align: right;\">\n",
       "      <th></th>\n",
       "      <th>clonesize</th>\n",
       "      <th>honeybee</th>\n",
       "      <th>bumbles</th>\n",
       "      <th>andrena</th>\n",
       "      <th>osmia</th>\n",
       "      <th>MaxOfUpperTRange</th>\n",
       "      <th>MinOfUpperTRange</th>\n",
       "      <th>AverageOfUpperTRange</th>\n",
       "      <th>MaxOfLowerTRange</th>\n",
       "      <th>MinOfLowerTRange</th>\n",
       "      <th>AverageOfLowerTRange</th>\n",
       "      <th>RainingDays</th>\n",
       "      <th>AverageRainingDays</th>\n",
       "      <th>fruitset</th>\n",
       "      <th>fruitmass</th>\n",
       "      <th>seeds</th>\n",
       "      <th>yield</th>\n",
       "    </tr>\n",
       "  </thead>\n",
       "  <tbody>\n",
       "    <tr>\n",
       "      <th>0</th>\n",
       "      <td>37.5</td>\n",
       "      <td>0.75</td>\n",
       "      <td>0.25</td>\n",
       "      <td>0.25</td>\n",
       "      <td>0.25</td>\n",
       "      <td>86.0</td>\n",
       "      <td>52.0</td>\n",
       "      <td>71.9</td>\n",
       "      <td>62.0</td>\n",
       "      <td>30.0</td>\n",
       "      <td>50.8</td>\n",
       "      <td>16.0</td>\n",
       "      <td>0.26</td>\n",
       "      <td>0.410652</td>\n",
       "      <td>0.408159</td>\n",
       "      <td>31.678898</td>\n",
       "      <td>3813.165795</td>\n",
       "    </tr>\n",
       "    <tr>\n",
       "      <th>1</th>\n",
       "      <td>37.5</td>\n",
       "      <td>0.75</td>\n",
       "      <td>0.25</td>\n",
       "      <td>0.25</td>\n",
       "      <td>0.25</td>\n",
       "      <td>86.0</td>\n",
       "      <td>52.0</td>\n",
       "      <td>71.9</td>\n",
       "      <td>62.0</td>\n",
       "      <td>30.0</td>\n",
       "      <td>50.8</td>\n",
       "      <td>1.0</td>\n",
       "      <td>0.10</td>\n",
       "      <td>0.444254</td>\n",
       "      <td>0.425458</td>\n",
       "      <td>33.449385</td>\n",
       "      <td>4947.605663</td>\n",
       "    </tr>\n",
       "    <tr>\n",
       "      <th>2</th>\n",
       "      <td>37.5</td>\n",
       "      <td>0.75</td>\n",
       "      <td>0.25</td>\n",
       "      <td>0.25</td>\n",
       "      <td>0.25</td>\n",
       "      <td>94.6</td>\n",
       "      <td>57.2</td>\n",
       "      <td>79.0</td>\n",
       "      <td>68.2</td>\n",
       "      <td>33.0</td>\n",
       "      <td>55.9</td>\n",
       "      <td>16.0</td>\n",
       "      <td>0.26</td>\n",
       "      <td>0.383787</td>\n",
       "      <td>0.399172</td>\n",
       "      <td>30.546306</td>\n",
       "      <td>3866.798965</td>\n",
       "    </tr>\n",
       "    <tr>\n",
       "      <th>3</th>\n",
       "      <td>37.5</td>\n",
       "      <td>0.75</td>\n",
       "      <td>0.25</td>\n",
       "      <td>0.25</td>\n",
       "      <td>0.25</td>\n",
       "      <td>94.6</td>\n",
       "      <td>57.2</td>\n",
       "      <td>79.0</td>\n",
       "      <td>68.2</td>\n",
       "      <td>33.0</td>\n",
       "      <td>55.9</td>\n",
       "      <td>1.0</td>\n",
       "      <td>0.10</td>\n",
       "      <td>0.407564</td>\n",
       "      <td>0.408789</td>\n",
       "      <td>31.562586</td>\n",
       "      <td>4303.943030</td>\n",
       "    </tr>\n",
       "    <tr>\n",
       "      <th>4</th>\n",
       "      <td>37.5</td>\n",
       "      <td>0.75</td>\n",
       "      <td>0.25</td>\n",
       "      <td>0.25</td>\n",
       "      <td>0.25</td>\n",
       "      <td>86.0</td>\n",
       "      <td>52.0</td>\n",
       "      <td>71.9</td>\n",
       "      <td>62.0</td>\n",
       "      <td>30.0</td>\n",
       "      <td>50.8</td>\n",
       "      <td>24.0</td>\n",
       "      <td>0.39</td>\n",
       "      <td>0.354413</td>\n",
       "      <td>0.382703</td>\n",
       "      <td>28.873714</td>\n",
       "      <td>3436.493543</td>\n",
       "    </tr>\n",
       "  </tbody>\n",
       "</table>\n",
       "</div>"
      ],
      "text/plain": [
       "   clonesize  honeybee  bumbles  andrena  osmia  MaxOfUpperTRange  \\\n",
       "0       37.5      0.75     0.25     0.25   0.25              86.0   \n",
       "1       37.5      0.75     0.25     0.25   0.25              86.0   \n",
       "2       37.5      0.75     0.25     0.25   0.25              94.6   \n",
       "3       37.5      0.75     0.25     0.25   0.25              94.6   \n",
       "4       37.5      0.75     0.25     0.25   0.25              86.0   \n",
       "\n",
       "   MinOfUpperTRange  AverageOfUpperTRange  MaxOfLowerTRange  MinOfLowerTRange  \\\n",
       "0              52.0                  71.9              62.0              30.0   \n",
       "1              52.0                  71.9              62.0              30.0   \n",
       "2              57.2                  79.0              68.2              33.0   \n",
       "3              57.2                  79.0              68.2              33.0   \n",
       "4              52.0                  71.9              62.0              30.0   \n",
       "\n",
       "   AverageOfLowerTRange  RainingDays  AverageRainingDays  fruitset  fruitmass  \\\n",
       "0                  50.8         16.0                0.26  0.410652   0.408159   \n",
       "1                  50.8          1.0                0.10  0.444254   0.425458   \n",
       "2                  55.9         16.0                0.26  0.383787   0.399172   \n",
       "3                  55.9          1.0                0.10  0.407564   0.408789   \n",
       "4                  50.8         24.0                0.39  0.354413   0.382703   \n",
       "\n",
       "       seeds        yield  \n",
       "0  31.678898  3813.165795  \n",
       "1  33.449385  4947.605663  \n",
       "2  30.546306  3866.798965  \n",
       "3  31.562586  4303.943030  \n",
       "4  28.873714  3436.493543  "
      ]
     },
     "execution_count": 52,
     "metadata": {},
     "output_type": "execute_result"
    }
   ],
   "source": [
    "df.head()"
   ]
  },
  {
   "cell_type": "code",
   "execution_count": 53,
   "id": "bfb109b6",
   "metadata": {},
   "outputs": [
    {
     "name": "stdout",
     "output_type": "stream",
     "text": [
      "clonesize                 12.500000\n",
      "honeybee                   0.250000\n",
      "bumbles                    0.130000\n",
      "andrena                    0.250000\n",
      "osmia                      0.250000\n",
      "MaxOfUpperTRange          11.600000\n",
      "MinOfUpperTRange           5.200000\n",
      "AverageOfUpperTRange       7.200000\n",
      "MaxOfLowerTRange          10.200000\n",
      "MinOfLowerTRange           3.000000\n",
      "AverageOfLowerTRange       5.000000\n",
      "RainingDays               20.230000\n",
      "AverageRainingDays         0.290000\n",
      "fruitset                   0.106571\n",
      "fruitmass                  0.059869\n",
      "seeds                      6.123577\n",
      "yield                   1897.334830\n",
      "dtype: float64\n"
     ]
    },
    {
     "data": {
      "text/plain": [
       "(752, 17)"
      ]
     },
     "execution_count": 53,
     "metadata": {},
     "output_type": "execute_result"
    }
   ],
   "source": [
    "Q1 = df.quantile(0.25)\n",
    "Q3 = df.quantile(0.75)\n",
    "IQR = Q3 - Q1\n",
    "\n",
    "print(IQR)\n",
    "df_out = df[~((df < (Q1 - 1.5 * IQR)) |(df > (Q3 + 1.5 * IQR))).any(axis=1)]\n",
    "df_out.shape"
   ]
  },
  {
   "cell_type": "markdown",
   "id": "b379ee94",
   "metadata": {},
   "source": [
    "Trabajaremos sobre el skew de HoneyBee"
   ]
  },
  {
   "cell_type": "code",
   "execution_count": 54,
   "id": "b29e12f6",
   "metadata": {},
   "outputs": [
    {
     "name": "stderr",
     "output_type": "stream",
     "text": [
      "C:\\Users\\laptop\\AppData\\Local\\Temp\\ipykernel_1356\\3697383012.py:1: SettingWithCopyWarning: \n",
      "A value is trying to be set on a copy of a slice from a DataFrame.\n",
      "Try using .loc[row_indexer,col_indexer] = value instead\n",
      "\n",
      "See the caveats in the documentation: https://pandas.pydata.org/pandas-docs/stable/user_guide/indexing.html#returning-a-view-versus-a-copy\n",
      "  df_out['honeybee'] = df_out['honeybee'] + 1\n"
     ]
    }
   ],
   "source": [
    "df_out['honeybee'] = df_out['honeybee'] + 1"
   ]
  },
  {
   "cell_type": "code",
   "execution_count": 55,
   "id": "1395790f",
   "metadata": {},
   "outputs": [
    {
     "name": "stderr",
     "output_type": "stream",
     "text": [
      "C:\\Users\\laptop\\AppData\\Local\\Temp\\ipykernel_1356\\2026996223.py:1: SettingWithCopyWarning: \n",
      "A value is trying to be set on a copy of a slice from a DataFrame.\n",
      "Try using .loc[row_indexer,col_indexer] = value instead\n",
      "\n",
      "See the caveats in the documentation: https://pandas.pydata.org/pandas-docs/stable/user_guide/indexing.html#returning-a-view-versus-a-copy\n",
      "  df_out['honeybee'] = np.log(df_out['honeybee'])\n"
     ]
    }
   ],
   "source": [
    "df_out['honeybee'] = np.log(df_out['honeybee'])"
   ]
  },
  {
   "cell_type": "code",
   "execution_count": 56,
   "id": "1520c1f5",
   "metadata": {},
   "outputs": [
    {
     "data": {
      "text/html": [
       "<div>\n",
       "<style scoped>\n",
       "    .dataframe tbody tr th:only-of-type {\n",
       "        vertical-align: middle;\n",
       "    }\n",
       "\n",
       "    .dataframe tbody tr th {\n",
       "        vertical-align: top;\n",
       "    }\n",
       "\n",
       "    .dataframe thead th {\n",
       "        text-align: right;\n",
       "    }\n",
       "</style>\n",
       "<table border=\"1\" class=\"dataframe\">\n",
       "  <thead>\n",
       "    <tr style=\"text-align: right;\">\n",
       "      <th></th>\n",
       "      <th>clonesize</th>\n",
       "      <th>honeybee</th>\n",
       "      <th>bumbles</th>\n",
       "      <th>andrena</th>\n",
       "      <th>osmia</th>\n",
       "      <th>MaxOfUpperTRange</th>\n",
       "      <th>MinOfUpperTRange</th>\n",
       "      <th>AverageOfUpperTRange</th>\n",
       "      <th>MaxOfLowerTRange</th>\n",
       "      <th>MinOfLowerTRange</th>\n",
       "      <th>AverageOfLowerTRange</th>\n",
       "      <th>RainingDays</th>\n",
       "      <th>AverageRainingDays</th>\n",
       "      <th>fruitset</th>\n",
       "      <th>fruitmass</th>\n",
       "      <th>seeds</th>\n",
       "      <th>yield</th>\n",
       "    </tr>\n",
       "  </thead>\n",
       "  <tbody>\n",
       "    <tr>\n",
       "      <th>0</th>\n",
       "      <td>37.5</td>\n",
       "      <td>0.559616</td>\n",
       "      <td>0.25</td>\n",
       "      <td>0.25</td>\n",
       "      <td>0.25</td>\n",
       "      <td>86.0</td>\n",
       "      <td>52.0</td>\n",
       "      <td>71.9</td>\n",
       "      <td>62.0</td>\n",
       "      <td>30.0</td>\n",
       "      <td>50.8</td>\n",
       "      <td>16.0</td>\n",
       "      <td>0.26</td>\n",
       "      <td>0.410652</td>\n",
       "      <td>0.408159</td>\n",
       "      <td>31.678898</td>\n",
       "      <td>3813.165795</td>\n",
       "    </tr>\n",
       "    <tr>\n",
       "      <th>1</th>\n",
       "      <td>37.5</td>\n",
       "      <td>0.559616</td>\n",
       "      <td>0.25</td>\n",
       "      <td>0.25</td>\n",
       "      <td>0.25</td>\n",
       "      <td>86.0</td>\n",
       "      <td>52.0</td>\n",
       "      <td>71.9</td>\n",
       "      <td>62.0</td>\n",
       "      <td>30.0</td>\n",
       "      <td>50.8</td>\n",
       "      <td>1.0</td>\n",
       "      <td>0.10</td>\n",
       "      <td>0.444254</td>\n",
       "      <td>0.425458</td>\n",
       "      <td>33.449385</td>\n",
       "      <td>4947.605663</td>\n",
       "    </tr>\n",
       "    <tr>\n",
       "      <th>2</th>\n",
       "      <td>37.5</td>\n",
       "      <td>0.559616</td>\n",
       "      <td>0.25</td>\n",
       "      <td>0.25</td>\n",
       "      <td>0.25</td>\n",
       "      <td>94.6</td>\n",
       "      <td>57.2</td>\n",
       "      <td>79.0</td>\n",
       "      <td>68.2</td>\n",
       "      <td>33.0</td>\n",
       "      <td>55.9</td>\n",
       "      <td>16.0</td>\n",
       "      <td>0.26</td>\n",
       "      <td>0.383787</td>\n",
       "      <td>0.399172</td>\n",
       "      <td>30.546306</td>\n",
       "      <td>3866.798965</td>\n",
       "    </tr>\n",
       "    <tr>\n",
       "      <th>3</th>\n",
       "      <td>37.5</td>\n",
       "      <td>0.559616</td>\n",
       "      <td>0.25</td>\n",
       "      <td>0.25</td>\n",
       "      <td>0.25</td>\n",
       "      <td>94.6</td>\n",
       "      <td>57.2</td>\n",
       "      <td>79.0</td>\n",
       "      <td>68.2</td>\n",
       "      <td>33.0</td>\n",
       "      <td>55.9</td>\n",
       "      <td>1.0</td>\n",
       "      <td>0.10</td>\n",
       "      <td>0.407564</td>\n",
       "      <td>0.408789</td>\n",
       "      <td>31.562586</td>\n",
       "      <td>4303.943030</td>\n",
       "    </tr>\n",
       "    <tr>\n",
       "      <th>4</th>\n",
       "      <td>37.5</td>\n",
       "      <td>0.559616</td>\n",
       "      <td>0.25</td>\n",
       "      <td>0.25</td>\n",
       "      <td>0.25</td>\n",
       "      <td>86.0</td>\n",
       "      <td>52.0</td>\n",
       "      <td>71.9</td>\n",
       "      <td>62.0</td>\n",
       "      <td>30.0</td>\n",
       "      <td>50.8</td>\n",
       "      <td>24.0</td>\n",
       "      <td>0.39</td>\n",
       "      <td>0.354413</td>\n",
       "      <td>0.382703</td>\n",
       "      <td>28.873714</td>\n",
       "      <td>3436.493543</td>\n",
       "    </tr>\n",
       "  </tbody>\n",
       "</table>\n",
       "</div>"
      ],
      "text/plain": [
       "   clonesize  honeybee  bumbles  andrena  osmia  MaxOfUpperTRange  \\\n",
       "0       37.5  0.559616     0.25     0.25   0.25              86.0   \n",
       "1       37.5  0.559616     0.25     0.25   0.25              86.0   \n",
       "2       37.5  0.559616     0.25     0.25   0.25              94.6   \n",
       "3       37.5  0.559616     0.25     0.25   0.25              94.6   \n",
       "4       37.5  0.559616     0.25     0.25   0.25              86.0   \n",
       "\n",
       "   MinOfUpperTRange  AverageOfUpperTRange  MaxOfLowerTRange  MinOfLowerTRange  \\\n",
       "0              52.0                  71.9              62.0              30.0   \n",
       "1              52.0                  71.9              62.0              30.0   \n",
       "2              57.2                  79.0              68.2              33.0   \n",
       "3              57.2                  79.0              68.2              33.0   \n",
       "4              52.0                  71.9              62.0              30.0   \n",
       "\n",
       "   AverageOfLowerTRange  RainingDays  AverageRainingDays  fruitset  fruitmass  \\\n",
       "0                  50.8         16.0                0.26  0.410652   0.408159   \n",
       "1                  50.8          1.0                0.10  0.444254   0.425458   \n",
       "2                  55.9         16.0                0.26  0.383787   0.399172   \n",
       "3                  55.9          1.0                0.10  0.407564   0.408789   \n",
       "4                  50.8         24.0                0.39  0.354413   0.382703   \n",
       "\n",
       "       seeds        yield  \n",
       "0  31.678898  3813.165795  \n",
       "1  33.449385  4947.605663  \n",
       "2  30.546306  3866.798965  \n",
       "3  31.562586  4303.943030  \n",
       "4  28.873714  3436.493543  "
      ]
     },
     "execution_count": 56,
     "metadata": {},
     "output_type": "execute_result"
    }
   ],
   "source": [
    "df_out.head()"
   ]
  },
  {
   "cell_type": "code",
   "execution_count": 57,
   "id": "8942e0c3",
   "metadata": {},
   "outputs": [],
   "source": [
    "y = df_out['yield']"
   ]
  },
  {
   "cell_type": "code",
   "execution_count": 58,
   "id": "0abef048",
   "metadata": {},
   "outputs": [],
   "source": [
    "# SE ELIMINA LA COLUMNA YIELD Y SE ELIMINAN LAS COLUMNAS MaxOfUpperTRange Y MaxOfLowerTRange \n",
    "# YA QUE AL CALCULAR SU VIF DIERON RESULTADOS INF LO QUE SIGNIFICA INDEFINIDO\n",
    "X = df_out.drop(columns=['yield','MaxOfUpperTRange','MaxOfLowerTRange'], axis=1)"
   ]
  },
  {
   "cell_type": "code",
   "execution_count": 59,
   "id": "3c2ac772",
   "metadata": {},
   "outputs": [],
   "source": [
    "y.to_csv('../data/processed/y.csv')"
   ]
  },
  {
   "cell_type": "code",
   "execution_count": 60,
   "id": "27d2848a",
   "metadata": {},
   "outputs": [],
   "source": [
    "X.to_csv('../data/processed/X.csv')"
   ]
  },
  {
   "cell_type": "markdown",
   "id": "8b0180ef",
   "metadata": {},
   "source": [
    "A continuacion haremos una NORMALIZACION de las variable numericas\n",
    "\n",
    "altos VIF - esto representa multicolinariedad\n",
    "\n",
    "\n",
    "7   AverageOfUpperTRange 94,389,548.91\n",
    "10  AverageOfLowerTRange 48,271,143.78\n",
    "11           RainingDays         64.10\n",
    "12    AverageRainingDays         71.32\n",
    "13              fruitset         80.87\n",
    "14             fruitmass        764.37\n",
    "15                 seeds        566.71"
   ]
  },
  {
   "cell_type": "code",
   "execution_count": null,
   "id": "21ee7cb9",
   "metadata": {},
   "outputs": [],
   "source": [
    "# X['AverageOfUpperTRange']=X['AverageOfUpperTRange']+1\n",
    "# X['AverageOfLowerTRange']=X['AverageOfLowerTRange']+1\n",
    "# X['RainingDays']=X['RainingDays']+1\n",
    "# X['AverageRainingDays']=X['AverageRainingDays']+1\n",
    "# X['fruitset']=X['fruitset']+1\n",
    "# X['fruitmass']=X['fruitmass'] +1\n",
    "# X['seeds']=X['seeds']+1   \n",
    "\n",
    "# X['AverageOfUpperTRange']=np.log(X['AverageOfUpperTRange'])\n",
    "# X['AverageOfLowerTRange']=np.log(X['AverageOfLowerTRange'])\n",
    "# X['RainingDays']=np.log(X['RainingDays'])\n",
    "# X['AverageRainingDays']=np.log(X['AverageRainingDays'])\n",
    "# X['fruitset']=np.log(X['fruitset'])\n",
    "# X['fruitmass']=np.log(X['fruitmass'])\n",
    "# X['seeds']=np.log(X['seeds'])"
   ]
  },
  {
   "cell_type": "code",
   "execution_count": null,
   "id": "a21972e7",
   "metadata": {},
   "outputs": [],
   "source": [
    "# from sklearn.preprocessing import StandardScaler"
   ]
  },
  {
   "cell_type": "code",
   "execution_count": null,
   "id": "c0d5f435",
   "metadata": {},
   "outputs": [],
   "source": [
    "# X['AverageOfUpperTRangeSC']=StandardScaler().fit_transform( np.array(X['AverageOfUpperTRange']).reshape(-1, 1) )\n",
    "# X['AverageOfLowerTRangeSC']=StandardScaler().fit_transform(np.array(X['AverageOfLowerTRange']).reshape(-1,1) )\n",
    "# X['RainingDaysSC']=StandardScaler().fit_transform(np.array(X['RainingDays']).reshape(-1,1) )\n",
    "# X['AverageRainingDaysSC']=StandardScaler().fit_transform(np.array(X['AverageRainingDays']).reshape(-1,1) )\n",
    "# X['fruitsetSC']=StandardScaler().fit_transform(np.array(X['fruitset']).reshape(-1,1) )\n",
    "# X['fruitmassSC']=StandardScaler().fit_transform(np.array(X['fruitmass']).reshape(-1,1) )\n",
    "# X['seedsSC']=StandardScaler().fit_transform(np.array(X['seeds']).reshape(-1,1) )"
   ]
  },
  {
   "cell_type": "code",
   "execution_count": null,
   "id": "b97a4030",
   "metadata": {},
   "outputs": [],
   "source": [
    "# X.head()"
   ]
  },
  {
   "cell_type": "code",
   "execution_count": null,
   "id": "f6e141df",
   "metadata": {},
   "outputs": [],
   "source": [
    "# X.drop(columns =['AverageOfUpperTRange'], axis = 1, inplace = True)\n",
    "# X.drop(columns =['AverageOfLowerTRange'], axis = 1, inplace = True)\n",
    "# X.drop(columns =['RainingDays'], axis = 1, inplace = True)\n",
    "# X.drop(columns =['AverageRainingDays'], axis = 1, inplace = True)\n",
    "# X.drop(columns =['fruitset'], axis = 1, inplace = True)\n",
    "# X.drop(columns =['fruitmass'], axis = 1, inplace = True)\n",
    "# X.drop(columns =['seeds'], axis = 1, inplace = True)"
   ]
  },
  {
   "cell_type": "code",
   "execution_count": null,
   "id": "6a2573a6",
   "metadata": {},
   "outputs": [],
   "source": []
  }
 ],
 "metadata": {
  "kernelspec": {
   "display_name": "Python 3 (ipykernel)",
   "language": "python",
   "name": "python3"
  },
  "language_info": {
   "codemirror_mode": {
    "name": "ipython",
    "version": 3
   },
   "file_extension": ".py",
   "mimetype": "text/x-python",
   "name": "python",
   "nbconvert_exporter": "python",
   "pygments_lexer": "ipython3",
   "version": "3.10.11"
  }
 },
 "nbformat": 4,
 "nbformat_minor": 5
}
